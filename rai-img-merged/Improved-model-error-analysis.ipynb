{
 "cells": [
  {
   "cell_type": "code",
   "execution_count": 6,
   "metadata": {},
   "outputs": [
    {
     "name": "stderr",
     "output_type": "stream",
     "text": [
      "/home/jui/.pyenv/versions/3.10.12/envs/myenv/lib/python3.10/site-packages/rdt/transformers/base.py:132: FutureWarning: Future versions of RDT will not support the 'model_missing_values' parameter. Please switch to using the 'missing_value_generation' parameter to select your strategy.\n",
      "  warnings.warn(\n"
     ]
    },
    {
     "name": "stdout",
     "output_type": "stream",
     "text": [
      "   ID  LIMIT_BAL  SEX  EDUCATION  MARRIAGE  AGE  PAY_0  PAY_2  PAY_3  PAY_4  \\\n",
      "0   1      20000    2          2         1   24      2      2     -1     -1   \n",
      "1   2     120000    2          2         2   26     -1      2      0      0   \n",
      "2   3      90000    2          2         2   34      0      0      0      0   \n",
      "3   4      50000    2          2         1   37      0      0      0      0   \n",
      "4   5      50000    1          2         1   57     -1      0     -1      0   \n",
      "\n",
      "   ...  BILL_AMT4  BILL_AMT5  BILL_AMT6  PAY_AMT1  PAY_AMT2  PAY_AMT3  \\\n",
      "0  ...          0          0          0         0       689         0   \n",
      "1  ...       3272       3455       3261         0      1000      1000   \n",
      "2  ...      14331      14948      15549      1518      1500      1000   \n",
      "3  ...      28314      28959      29547      2000      2019      1200   \n",
      "4  ...      20940      19146      19131      2000     36681     10000   \n",
      "\n",
      "   PAY_AMT4  PAY_AMT5  PAY_AMT6  default payment next month  \n",
      "0         0         0         0                           1  \n",
      "1      1000         0      2000                           1  \n",
      "2      1000      1000      5000                           0  \n",
      "3      1100      1069      1000                           0  \n",
      "4      9000       689       679                           0  \n",
      "\n",
      "[5 rows x 25 columns]\n"
     ]
    }
   ],
   "source": [
    "import pandas as pd\n",
    "from raimitigations.dataprocessing import Rebalance\n",
    "\n",
    "df = pd.read_excel(\"/home/jui/thesis-code/data/credit_card_clients.xls\")\n",
    "\n",
    "# Display the first few rows of the dataframe to verify it loaded correctly\n",
    "print(df.head())"
   ]
  },
  {
   "cell_type": "code",
   "execution_count": 7,
   "metadata": {},
   "outputs": [],
   "source": [
    "df['EDUCATION'] = df['EDUCATION'].replace({1: 1, 2: 1, 3: 2, 4: 3})"
   ]
  },
  {
   "cell_type": "code",
   "execution_count": 8,
   "metadata": {},
   "outputs": [
    {
     "name": "stdout",
     "output_type": "stream",
     "text": [
      " 0    95919\n",
      "-1    59055\n",
      " 2    18964\n",
      " 1     3722\n",
      " 3     1430\n",
      " 4      453\n",
      " 7      218\n",
      " 5      137\n",
      " 6       74\n",
      " 8       28\n",
      "dtype: int64\n"
     ]
    }
   ],
   "source": [
    "# Count occurrences of each unique value across all PAY_* columns\n",
    "value_counts = df[['PAY_0', 'PAY_2', 'PAY_3', 'PAY_4', 'PAY_5', 'PAY_6']].stack().value_counts()\n",
    "# List of columns to modify\n",
    "pay_columns = ['PAY_0', 'PAY_2', 'PAY_3', 'PAY_4', 'PAY_5', 'PAY_6']\n",
    "\n",
    "# Replace -2 with -1\n",
    "df[pay_columns] = df[pay_columns].replace({-2:-1})\n",
    "\n",
    "# Count occurrences of each unique value across PAY_* columns\n",
    "value_counts = df[pay_columns].stack().value_counts()\n",
    "\n",
    "# Print result\n",
    "print(value_counts)\n"
   ]
  },
  {
   "cell_type": "code",
   "execution_count": 9,
   "metadata": {},
   "outputs": [],
   "source": [
    "bins = [0, 25, 35, 45, 55, 70, float('inf')]  # Define bin edges\n",
    "labels = [1, 2, 3, 4, 5, 6]  # Assign category labels\n",
    "\n",
    "df['AGE'] = pd.cut(df['AGE'], bins=bins, labels=labels, right=False).astype(int)\n"
   ]
  },
  {
   "cell_type": "code",
   "execution_count": 10,
   "metadata": {},
   "outputs": [
    {
     "name": "stdout",
     "output_type": "stream",
     "text": [
      "2    18112\n",
      "1    18112\n",
      "Name: SEX, dtype: int64\n"
     ]
    }
   ],
   "source": [
    "df['MARRIAGE'] = df['MARRIAGE'].replace({0: 3})\n",
    "df = df.drop(columns=['ID'])\n",
    "df['SEX'].value_counts()\n",
    "\n",
    "rebalance = Rebalance(\n",
    "\t\t\t\tdf=df,\n",
    "\t\t\t\trebalance_col='SEX',\n",
    "\t\t\t\tk_neighbors=6,\n",
    "\t\t\t\tverbose=False\n",
    "\t\t\t)\n",
    "df = rebalance.fit_resample()\n",
    "print(df['SEX'].value_counts())"
   ]
  },
  {
   "cell_type": "code",
   "execution_count": 11,
   "metadata": {},
   "outputs": [],
   "source": [
    "import matplotlib.pyplot as plt\n",
    "import numpy as np\n",
    "import pandas as pd\n",
    "from sklearn.pipeline import Pipeline\n",
    "from sklearn.impute import SimpleImputer\n",
    "from sklearn.model_selection import train_test_split\n",
    "from sklearn.preprocessing import StandardScaler, OneHotEncoder\n",
    "from sklearn.compose import ColumnTransformer\n",
    "import xgboost as xgb\n",
    "from packaging import version\n",
    "import sklearn\n",
    "from sklearn.metrics import accuracy_score, classification_report\n",
    "\n",
    "def split_label(dataset, target_feature):\n",
    "    X = dataset.drop([target_feature], axis=1)\n",
    "    y = dataset[[target_feature]]\n",
    "    return X, y\n",
    "\n",
    "# Handle different scikit-learn versions for OneHotEncoder parameters\n",
    "if version.parse(sklearn.__version__) < version.parse('1.2'):\n",
    "    ohe_params = {\"sparse\": False}\n",
    "else:\n",
    "    ohe_params = {\"sparse_output\": False}\n",
    "\n",
    "def create_classification_pipeline(X):\n",
    "    pipe_cfg = {\n",
    "        'num_cols': X.dtypes[X.dtypes == 'int64'].index.values.tolist(),\n",
    "        'cat_cols': X.dtypes[X.dtypes == 'object'].index.values.tolist(),\n",
    "    }\n",
    "    num_pipe = Pipeline([ \n",
    "        ('num_imputer', SimpleImputer(strategy='median')),\n",
    "        ('num_scaler', StandardScaler())\n",
    "    ])\n",
    "    cat_pipe = Pipeline([\n",
    "        ('cat_imputer', SimpleImputer(strategy='constant', fill_value='?')),\n",
    "        ('cat_encoder', OneHotEncoder(handle_unknown='ignore', **ohe_params))\n",
    "    ])\n",
    "    feat_pipe = ColumnTransformer([\n",
    "        ('num_pipe', num_pipe, pipe_cfg['num_cols']),\n",
    "        ('cat_pipe', cat_pipe, pipe_cfg['cat_cols'])\n",
    "    ])\n",
    "\n",
    "    # Using XGBClassifier with Regularization, Learning Rate, and Eval Metrics\n",
    "    xgb_model = xgb.XGBClassifier(\n",
    "        tree_method='hist',  # Fast histogram-based training\n",
    "        random_state=10,\n",
    "        n_jobs=-1,  # Use all CPU cores\n",
    "        learning_rate=0.17,  # Controls step size\n",
    "        reg_alpha=0.65,  # L1 regularization (sparsity)\n",
    "        reg_lambda=1.0,  # L2 regularization (weight decay)\n",
    "        eval_metric='logloss',  # Logarithmic loss for classification\n",
    "        use_label_encoder=False,  # Avoids unnecessary warnings\n",
    "        n_estimators=700,\n",
    "        early_stopping_rounds=65\n",
    "    )\n",
    "\n",
    "    pipeline = Pipeline(steps=[('preprocessor', feat_pipe),\n",
    "                               ('model', xgb_model)])\n",
    "\n",
    "    return pipeline"
   ]
  },
  {
   "cell_type": "code",
   "execution_count": 12,
   "metadata": {},
   "outputs": [
    {
     "name": "stderr",
     "output_type": "stream",
     "text": [
      "/home/jui/.pyenv/versions/3.10.12/envs/myenv/lib/python3.10/site-packages/xgboost/core.py:158: UserWarning: [16:36:36] WARNING: /workspace/src/learner.cc:740: \n",
      "Parameters: { \"use_label_encoder\" } are not used.\n",
      "\n",
      "  warnings.warn(smsg, UserWarning)\n"
     ]
    },
    {
     "name": "stdout",
     "output_type": "stream",
     "text": [
      "Model Accuracy: 0.8443\n",
      "Classification Report:\n",
      "              precision    recall  f1-score   support\n",
      "\n",
      "           0       0.86      0.96      0.91      7317\n",
      "           1       0.67      0.37      0.48      1739\n",
      "\n",
      "    accuracy                           0.84      9056\n",
      "   macro avg       0.77      0.66      0.69      9056\n",
      "weighted avg       0.83      0.84      0.83      9056\n",
      "\n",
      "\n",
      "Final Training Log Loss: 0.3046\n",
      "Final Test Log Loss: 0.3902\n"
     ]
    },
    {
     "data": {
      "image/png": "[encoded data removed]",
      "text/plain": [
       "<Figure size 1000x500 with 1 Axes>"
      ]
     },
     "metadata": {},
     "output_type": "display_data"
    }
   ],
   "source": [
    "target_feature = 'default payment next month'\n",
    "categorical_features = []\n",
    "\n",
    "# Split data into features and target\n",
    "X, y = split_label(df, target_feature)\n",
    "\n",
    "# Split data into train and test sets (80% training, 20% testing)\n",
    "X_train_og, X_test_og, y_train, y_test = train_test_split(X, y, test_size=0.25, random_state=40)\n",
    "\n",
    "# Create the classification pipeline\n",
    "pipeline = create_classification_pipeline(X_train_og)\n",
    "\n",
    "# Fit the preprocessor separately to extract feature names\n",
    "pipeline.named_steps['preprocessor'].fit(X_train_og)\n",
    "\n",
    "# Extract transformed feature names safely\n",
    "if hasattr(pipeline.named_steps['preprocessor'], \"get_feature_names_out\"):\n",
    "    feature_names = pipeline.named_steps['preprocessor'].get_feature_names_out()\n",
    "else:\n",
    "    # Manually construct feature names (for older sklearn versions)\n",
    "    num_cols = X_train_og.select_dtypes(include=['int64', 'float64']).columns.tolist()\n",
    "    cat_cols = X_train_og.select_dtypes(include=['object']).columns.tolist()\n",
    "    feature_names = num_cols + cat_cols  # Not perfect, but works if get_feature_names_out() is missing\n",
    "\n",
    "# Convert y_train and y_test to NumPy arrays\n",
    "y_train = y_train.to_numpy()\n",
    "y_test = y_test.to_numpy()\n",
    "\n",
    "# Extract XGBClassifier separately and fit with eval_set\n",
    "xgb_model = pipeline.named_steps['model']\n",
    "xgb_model.fit(pipeline.named_steps['preprocessor'].transform(X_train_og), y_train, \n",
    "              eval_set=[(pipeline.named_steps['preprocessor'].transform(X_train_og), y_train),\n",
    "                        (pipeline.named_steps['preprocessor'].transform(X_test_og), y_test)], verbose=False)\n",
    "\n",
    "# Make predictions\n",
    "y_pred = xgb_model.predict(pipeline.named_steps['preprocessor'].transform(X_test_og))\n",
    "\n",
    "# Compute accuracy and classification report\n",
    "accuracy = accuracy_score(y_test, y_pred)\n",
    "class_report = classification_report(y_test, y_pred)\n",
    "\n",
    "print(f\"Model Accuracy: {accuracy:.4f}\")\n",
    "print(f\"Classification Report:\\n{class_report}\\n\")\n",
    "\n",
    "# Extract evaluation results\n",
    "evals_result = xgb_model.evals_result()\n",
    "\n",
    "# Get the final log loss for training and testing\n",
    "train_log_loss = evals_result['validation_0']['logloss'][-1]\n",
    "test_log_loss = evals_result['validation_1']['logloss'][-1]\n",
    "\n",
    "# Print the final log loss values for both training and validation\n",
    "print(f\"Final Training Log Loss: {train_log_loss:.4f}\")\n",
    "print(f\"Final Test Log Loss: {test_log_loss:.4f}\")\n",
    "\n",
    "# Plot training and validation log loss\n",
    "plt.figure(figsize=(10, 5))\n",
    "plt.plot(evals_result['validation_0']['logloss'], label='Train Log Loss', color='blue')\n",
    "plt.plot(evals_result['validation_1']['logloss'], label='Test Log Loss', color='red')\n",
    "plt.xlabel(\"Epochs\")\n",
    "plt.ylabel(\"Log Loss\")\n",
    "plt.title(\"XGBoost Training Progress (Log Loss)\")\n",
    "plt.legend()\n",
    "plt.show()"
   ]
  },
  {
   "cell_type": "code",
   "execution_count": null,
   "metadata": {},
   "outputs": [],
   "source": []
  }
 ],
 "metadata": {
  "kernelspec": {
   "display_name": "myenv",
   "language": "python",
   "name": "python3"
  },
  "language_info": {
   "codemirror_mode": {
    "name": "ipython",
    "version": 3
   },
   "file_extension": ".py",
   "mimetype": "text/x-python",
   "name": "python",
   "nbconvert_exporter": "python",
   "pygments_lexer": "ipython3",
   "version": "3.10.12"
  }
 },
 "nbformat": 4,
 "nbformat_minor": 2
}
