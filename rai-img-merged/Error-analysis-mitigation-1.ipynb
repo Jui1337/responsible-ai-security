{
 "cells": [
  {
   "cell_type": "code",
   "execution_count": null,
   "metadata": {},
   "outputs": [],
   "source": [
    "%run /home/jui/thesis-code/Thesis-code/rai-img-merged/baseline-model.ipynb"
   ]
  },
  {
   "cell_type": "code",
   "execution_count": null,
   "metadata": {},
   "outputs": [],
   "source": [
    "from art.estimators.classification import XGBoostClassifier\n",
    "from art.attacks.evasion import ZooAttack\n",
    "from art.estimators.classification import SklearnClassifier\n",
    "\n",
    "import warnings\n",
    "warnings.filterwarnings('ignore')\n",
    "\n",
    "# Select random 7500 samples using positional indexing\n",
    "subset_indices = np.random.choice(len(y_train_og), 7500, replace=False)\n",
    "X_train_subset = X_train_og.iloc[subset_indices]  # Use .iloc for positional indexing\n",
    "y_train_subset = y_train_og[subset_indices]  # Direct positional indexing for NumPy array\n",
    "\n",
    "\n",
    "def get_adversarial_examples(X_train_subset, pipeline, model):\n",
    "    \"\"\"\n",
    "    Generate adversarial examples using the ZooAttack method.\n",
    "\n",
    "    Args:\n",
    "        X_train_subset (np.ndarray): Subset of training data (raw features).\n",
    "        y_train_subset (np.ndarray): Corresponding labels for the subset.\n",
    "        pipeline (Pipeline): The original pipeline containing preprocessing and model.\n",
    "\n",
    "    Returns:\n",
    "        np.ndarray: Adversarial examples.\n",
    "    \"\"\"\n",
    "    # Extract the preprocessor and model from the pipeline\n",
    "    preprocessor = pipeline.named_steps['preprocessor']\n",
    "\n",
    "    # Preprocess the subset of training data using the pipeline's preprocessor\n",
    "    X_train_subset_preprocessed = preprocessor.transform(X_train_subset)\n",
    "\n",
    "    # Create ART classifier for XGBoost\n",
    "    art_classifier = XGBoostClassifier(\n",
    "        model=model,\n",
    "        nb_features=X_train_subset_preprocessed.shape[1],\n",
    "        nb_classes=2)\n",
    "\n",
    "    # Create the ZooAttack instance\n",
    "    zoo = ZooAttack(\n",
    "        classifier=art_classifier,\n",
    "        confidence=0.0,\n",
    "        targeted=False,\n",
    "        learning_rate=1e-1,\n",
    "        max_iter=50,\n",
    "        binary_search_steps=10,\n",
    "        initial_const=1e-3,\n",
    "        abort_early=True,\n",
    "        use_resize=False,\n",
    "        use_importance=False,\n",
    "        nb_parallel=5,\n",
    "        batch_size=1,\n",
    "        variable_h=0.01\n",
    "    )\n",
    "\n",
    "    # Generate adversarial examples\n",
    "    x_train_adv = zoo.generate(X_train_subset_preprocessed)\n",
    "\n",
    "    return x_train_adv"
   ]
  },
  {
   "cell_type": "code",
   "execution_count": null,
   "metadata": {},
   "outputs": [],
   "source": [
    "x_train_adv = get_adversarial_examples(X_train_subset, pipeline, model)\n",
    "print(x_train_adv.shape)"
   ]
  },
  {
   "cell_type": "code",
   "execution_count": null,
   "metadata": {},
   "outputs": [],
   "source": [
    "import xgboost as xgb\n",
    "import matplotlib.pyplot as plt\n",
    "import seaborn as sns\n",
    "from sklearn.metrics import accuracy_score, confusion_matrix, classification_report\n",
    "from sklearn.model_selection import train_test_split\n",
    "\n",
    "\n",
    "# Convert all datasets to NumPy arrays before training\n",
    "xgb_model.fit(x_train_adv, y_train_subset,  verbose=False)\n",
    "\n",
    "# Predictions on the test set (not the original or adversarial training data)\n",
    "y_pred_test = xgb_model.predict(X_test_og)\n",
    "\n",
    "# Compute accuracy on the test set\n",
    "accuracy_test = accuracy_score(y_test, y_pred_test)\n",
    "print(f\"Accuracy on Test Set: {accuracy_test * 100:.2f}%\")\n",
    "\n",
    "# Confusion Matrix for test data\n",
    "cm_test = confusion_matrix(y_test, y_pred_test)\n",
    "\n",
    "# Plot Confusion Matrix for the test set\n",
    "plt.figure(figsize=(6, 5))\n",
    "sns.heatmap(cm_test, annot=True, fmt='d', cmap='Blues')\n",
    "plt.title(\"Confusion Matrix - Test Set\")\n",
    "plt.show()\n"
   ]
  },
  {
   "cell_type": "code",
   "execution_count": null,
   "metadata": {},
   "outputs": [],
   "source": []
  }
 ],
 "metadata": {
  "kernelspec": {
   "display_name": "myenv",
   "language": "python",
   "name": "python3"
  },
  "language_info": {
   "codemirror_mode": {
    "name": "ipython",
    "version": 3
   },
   "file_extension": ".py",
   "mimetype": "text/x-python",
   "name": "python",
   "nbconvert_exporter": "python",
   "pygments_lexer": "ipython3",
   "version": "3.10.12"
  }
 },
 "nbformat": 4,
 "nbformat_minor": 2
}
