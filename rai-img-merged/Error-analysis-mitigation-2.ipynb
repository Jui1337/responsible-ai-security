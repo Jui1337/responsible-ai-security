{
 "cells": [
  {
   "cell_type": "code",
   "execution_count": 14,
   "metadata": {},
   "outputs": [
    {
     "name": "stdout",
     "output_type": "stream",
     "text": [
      "0    23364\n",
      "1     6636\n",
      "Name: default payment next month, dtype: int64\n",
      "(30000, 25)\n",
      "2    18112\n",
      "1    18112\n",
      "Name: SEX, dtype: int64\n",
      "PR-AUC: 0.5775005059302372\n",
      "Model Accuracy: 0.8419\n",
      "Classification Report:\n",
      "              precision    recall  f1-score   support\n",
      "\n",
      "           0       0.86      0.96      0.91      7305\n",
      "           1       0.66      0.37      0.47      1751\n",
      "\n",
      "    accuracy                           0.84      9056\n",
      "   macro avg       0.76      0.66      0.69      9056\n",
      "weighted avg       0.82      0.84      0.82      9056\n",
      "\n",
      "\n",
      "Final Training Log Loss: 0.3026\n",
      "Final Test Log Loss: 0.3941\n"
     ]
    }
   ],
   "source": [
    "%run Improved-model.ipynb"
   ]
  },
  {
   "cell_type": "code",
   "execution_count": 15,
   "metadata": {},
   "outputs": [],
   "source": [
    "from raiwidgets import ResponsibleAIDashboard\n",
    "from responsibleai import RAIInsights"
   ]
  },
  {
   "cell_type": "code",
   "execution_count": 16,
   "metadata": {},
   "outputs": [
    {
     "name": "stdout",
     "output_type": "stream",
     "text": [
      "Train dataset:\n",
      " 2    2246\n",
      "3    1516\n",
      "4     648\n",
      "1     440\n",
      "5     146\n",
      "6       4\n",
      "Name: AGE, dtype: int64\n"
     ]
    }
   ],
   "source": [
    "from responsibleai.feature_metadata import FeatureMetadata\n",
    "import seaborn as sns\n",
    "import matplotlib.pyplot as plt\n",
    "\n",
    "# Set up feature metadata for RAIInsights\n",
    "feature_metadata = FeatureMetadata(categorical_features=[], dropped_features=[])\n",
    "\n",
    "# Add the target feature back to the datasets\n",
    "X_train_og_with_target = X_train.copy()\n",
    "X_train_og_with_target[target_feature] = y_train\n",
    "\n",
    "X_test_og_with_target = X_test.copy()\n",
    "X_test_og_with_target[target_feature] = y_test\n",
    "\n",
    "#sample_df = X_test_og_with_target.sample(n=5000, random_state=10)\n",
    "\n",
    "# Specify the stratification variable\n",
    "stratify_by = 'AGE'\n",
    "\n",
    "# Split the data into training and testing sets, with stratification\n",
    "train, test = train_test_split(X_train_og_with_target, test_size=0.25, stratify=X_train_og_with_target[stratify_by])\n",
    "sample_df, _ = train_test_split(\n",
    "    train, \n",
    "    train_size=5000/len(train),  # Ensure we get exactly 5000 samples\n",
    "    stratify=train[stratify_by],  # Maintain distribution\n",
    "    random_state=42\n",
    ")\n",
    "\n",
    "# Check the distribution of the stratification variable in the training and testing sets\n",
    "print(\"Train dataset:\\n\", sample_df[stratify_by].value_counts())"
   ]
  },
  {
   "cell_type": "code",
   "execution_count": 17,
   "metadata": {},
   "outputs": [],
   "source": [
    "# Now, pass these modified DataFrames to RAIInsights\n",
    "sample_df[target_feature] = y_test[:5000]\n",
    "rai_insights = RAIInsights(model_improved, X_train_og_with_target, sample_df, target_feature, 'classification', feature_metadata=feature_metadata)"
   ]
  },
  {
   "cell_type": "code",
   "execution_count": 18,
   "metadata": {},
   "outputs": [],
   "source": [
    "# Interpretability\n",
    "rai_insights.explainer.add()\n",
    "# Error Analysis\n",
    "rai_insights.error_analysis.add()\n",
    "\n",
    "# Counterfactuals: accepts total number of counterfactuals to generate, the label that they should have, and a list of \n",
    "                # strings of categorical feature names\n",
    "#rai_insights.counterfactual.add(total_CFs=10, desired_class='opposite')\n"
   ]
  },
  {
   "cell_type": "code",
   "execution_count": 19,
   "metadata": {},
   "outputs": [
    {
     "name": "stdout",
     "output_type": "stream",
     "text": [
      "================================================================================\n",
      "Causal Effects\n",
      "Current Status: Generating Causal Effects.\n",
      "Current Status: Finished generating causal effects.\n",
      "Time taken: 0.0 min 2.023298293352127e-05 sec\n",
      "================================================================================\n",
      "================================================================================\n",
      "Counterfactual\n",
      "Time taken: 0.0 min 6.213784217834473e-06 sec\n",
      "================================================================================\n",
      "================================================================================\n",
      "Error Analysis\n",
      "Current Status: Generating error analysis reports.\n",
      "Current Status: Finished generating error analysis reports.\n",
      "Time taken: 0.0 min 0.32130540162324905 sec\n",
      "================================================================================\n",
      "================================================================================\n",
      "Explanations\n",
      "Current Status: Explaining 22 features\n",
      "Current Status: Explained 22 features.\n",
      "Time taken: 0.0 min 0.9586583822965622 sec\n",
      "================================================================================\n"
     ]
    }
   ],
   "source": [
    "# Compute: Perform all tasks (this remains CPU-bound)\n",
    "rai_insights.compute()"
   ]
  },
  {
   "cell_type": "code",
   "execution_count": 20,
   "metadata": {},
   "outputs": [
    {
     "name": "stdout",
     "output_type": "stream",
     "text": [
      "ResponsibleAI started at http://localhost:8713\n"
     ]
    },
    {
     "data": {
      "text/plain": [
       "<raiwidgets.responsibleai_dashboard.ResponsibleAIDashboard at 0x7b8e9e9b76a0>"
      ]
     },
     "execution_count": 20,
     "metadata": {},
     "output_type": "execute_result"
    }
   ],
   "source": [
    "ResponsibleAIDashboard(rai_insights)"
   ]
  },
  {
   "cell_type": "code",
   "execution_count": null,
   "metadata": {},
   "outputs": [],
   "source": []
  }
 ],
 "metadata": {
  "kernelspec": {
   "display_name": "Python 3 (ipykernel)",
   "language": "python",
   "name": "python3"
  },
  "language_info": {
   "codemirror_mode": {
    "name": "ipython",
    "version": 3
   },
   "file_extension": ".py",
   "mimetype": "text/x-python",
   "name": "python",
   "nbconvert_exporter": "python",
   "pygments_lexer": "ipython3",
   "version": "3.10.8"
  }
 },
 "nbformat": 4,
 "nbformat_minor": 4
}
