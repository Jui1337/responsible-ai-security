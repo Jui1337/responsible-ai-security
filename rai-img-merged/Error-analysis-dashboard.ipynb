{
 "cells": [
  {
   "cell_type": "code",
   "execution_count": 1,
   "metadata": {},
   "outputs": [
    {
     "name": "stdout",
     "output_type": "stream",
     "text": [
      "   ID  LIMIT_BAL  SEX  EDUCATION  MARRIAGE  AGE  PAY_0  PAY_2  PAY_3  PAY_4  \\\n",
      "0   1      20000    2          2         1   24      2      2     -1     -1   \n",
      "1   2     120000    2          2         2   26     -1      2      0      0   \n",
      "2   3      90000    2          2         2   34      0      0      0      0   \n",
      "3   4      50000    2          2         1   37      0      0      0      0   \n",
      "4   5      50000    1          2         1   57     -1      0     -1      0   \n",
      "\n",
      "   ...  BILL_AMT4  BILL_AMT5  BILL_AMT6  PAY_AMT1  PAY_AMT2  PAY_AMT3  \\\n",
      "0  ...          0          0          0         0       689         0   \n",
      "1  ...       3272       3455       3261         0      1000      1000   \n",
      "2  ...      14331      14948      15549      1518      1500      1000   \n",
      "3  ...      28314      28959      29547      2000      2019      1200   \n",
      "4  ...      20940      19146      19131      2000     36681     10000   \n",
      "\n",
      "   PAY_AMT4  PAY_AMT5  PAY_AMT6  default payment next month  \n",
      "0         0         0         0                           1  \n",
      "1      1000         0      2000                           1  \n",
      "2      1000      1000      5000                           0  \n",
      "3      1100      1069      1000                           0  \n",
      "4      9000       689       679                           0  \n",
      "\n",
      "[5 rows x 25 columns]\n"
     ]
    }
   ],
   "source": [
    "import pandas as pd\n",
    "\n",
    "df = pd.read_excel(\"/home/jui/thesis-code/data/credit_card_clients.xls\")\n",
    "\n",
    "# Display the first few rows of the dataframe to verify it loaded correctly\n",
    "print(df.head())\n"
   ]
  },
  {
   "cell_type": "code",
   "execution_count": 2,
   "metadata": {},
   "outputs": [
    {
     "data": {
      "text/plain": [
       "Index(['ID', 'LIMIT_BAL', 'SEX', 'EDUCATION', 'MARRIAGE', 'AGE', 'PAY_0',\n",
       "       'PAY_2', 'PAY_3', 'PAY_4', 'PAY_5', 'PAY_6', 'BILL_AMT1', 'BILL_AMT2',\n",
       "       'BILL_AMT3', 'BILL_AMT4', 'BILL_AMT5', 'BILL_AMT6', 'PAY_AMT1',\n",
       "       'PAY_AMT2', 'PAY_AMT3', 'PAY_AMT4', 'PAY_AMT5', 'PAY_AMT6',\n",
       "       'default payment next month'],\n",
       "      dtype='object')"
      ]
     },
     "execution_count": 2,
     "metadata": {},
     "output_type": "execute_result"
    }
   ],
   "source": [
    "df.columns"
   ]
  },
  {
   "cell_type": "code",
   "execution_count": 3,
   "metadata": {},
   "outputs": [],
   "source": [
    "from sklearn.pipeline import Pipeline\n",
    "from sklearn.impute import SimpleImputer\n",
    "from sklearn.model_selection import train_test_split\n",
    "from sklearn.preprocessing import StandardScaler, OneHotEncoder\n",
    "from sklearn.compose import ColumnTransformer\n",
    "import xgboost as xgb\n",
    "from packaging import version\n",
    "import sklearn\n",
    "from sklearn.metrics import accuracy_score, classification_report\n",
    "\n",
    "def split_label(dataset, target_feature):\n",
    "    X = dataset.drop([target_feature], axis=1)\n",
    "    y = dataset[[target_feature]]\n",
    "    return X, y\n",
    "\n",
    "# Handle different scikit-learn versions for OneHotEncoder parameters\n",
    "if version.parse(sklearn.__version__) < version.parse('1.2'):\n",
    "    ohe_params = {\"sparse\": False}\n",
    "else:\n",
    "    ohe_params = {\"sparse_output\": False}\n",
    "\n",
    "def create_classification_pipeline(X):\n",
    "    pipe_cfg = {\n",
    "        'num_cols': X.dtypes[X.dtypes == 'int64'].index.values.tolist(),\n",
    "        'cat_cols': X.dtypes[X.dtypes == 'object'].index.values.tolist(),\n",
    "    }\n",
    "    num_pipe = Pipeline([ \n",
    "        ('num_imputer', SimpleImputer(strategy='median')),\n",
    "        ('num_scaler', StandardScaler())\n",
    "    ])\n",
    "    cat_pipe = Pipeline([\n",
    "        ('cat_imputer', SimpleImputer(strategy='constant', fill_value='?')),\n",
    "        ('cat_encoder', OneHotEncoder(handle_unknown='ignore', **ohe_params))\n",
    "    ])\n",
    "    feat_pipe = ColumnTransformer([\n",
    "        ('num_pipe', num_pipe, pipe_cfg['num_cols']),\n",
    "        ('cat_pipe', cat_pipe, pipe_cfg['cat_cols'])\n",
    "    ])\n",
    "\n",
    "    # Using XGBClassifier with GPU support\n",
    "    pipeline = Pipeline(steps=[('preprocessor', feat_pipe),\n",
    "                            ('model', xgb.XGBClassifier(\n",
    "                                tree_method='hist',  # Use hist for GPU training\n",
    "                                random_state=0,\n",
    "                                n_jobs=-1  # Use all available CPU cores for pre-processing\n",
    "                            ))])\n",
    "\n",
    "    return pipeline"
   ]
  },
  {
   "cell_type": "code",
   "execution_count": 4,
   "metadata": {},
   "outputs": [
    {
     "name": "stdout",
     "output_type": "stream",
     "text": [
      "Accuracy: 0.8158333333333333\n",
      "Classification Report:\n",
      "              precision    recall  f1-score   support\n",
      "\n",
      "           0       0.84      0.94      0.89      4687\n",
      "           1       0.64      0.36      0.46      1313\n",
      "\n",
      "    accuracy                           0.82      6000\n",
      "   macro avg       0.74      0.65      0.68      6000\n",
      "weighted avg       0.80      0.82      0.80      6000\n",
      "\n",
      "\n"
     ]
    }
   ],
   "source": [
    "target_feature = 'default payment next month'\n",
    "categorical_features = []\n",
    "\n",
    "# Split data into features and target\n",
    "X, y = split_label(df, target_feature)\n",
    "\n",
    "# Split data into train and test sets (80% training, 20% testing)\n",
    "X_train_og, X_test_og, y_train, y_test = train_test_split(X, y, test_size=0.2, random_state=42)\n",
    "\n",
    "# Create classification pipeline\n",
    "pipeline = create_classification_pipeline(X_train_og)\n",
    "\n",
    "# Convert target labels to numpy arrays for fitting\n",
    "y_train = y_train[target_feature].to_numpy()\n",
    "y_test = y_test[target_feature].to_numpy()\n",
    "\n",
    "# Train the model using the pipeline\n",
    "model = pipeline.fit(X_train_og, y_train)\n",
    "\n",
    "y_pred = pipeline.predict(X_test_og)\n",
    "accuracy = accuracy_score(y_test, y_pred)\n",
    "class_report = classification_report(y_test, y_pred)\n",
    "\n",
    "print(f\"Accuracy: {accuracy}\")\n",
    "print(f\"Classification Report:\\n{class_report}\\n\")"
   ]
  },
  {
   "cell_type": "code",
   "execution_count": 5,
   "metadata": {},
   "outputs": [
    {
     "name": "stderr",
     "output_type": "stream",
     "text": [
      "IProgress not found. Please update jupyter and ipywidgets. See https://ipywidgets.readthedocs.io/en/stable/user_install.html\n",
      "2025-02-10 16:43:20.147862: E external/local_xla/xla/stream_executor/cuda/cuda_fft.cc:477] Unable to register cuFFT factory: Attempting to register factory for plugin cuFFT when one has already been registered\n",
      "WARNING: All log messages before absl::InitializeLog() is called are written to STDERR\n",
      "E0000 00:00:1739234600.161982  685318 cuda_dnn.cc:8310] Unable to register cuDNN factory: Attempting to register factory for plugin cuDNN when one has already been registered\n",
      "E0000 00:00:1739234600.166316  685318 cuda_blas.cc:1418] Unable to register cuBLAS factory: Attempting to register factory for plugin cuBLAS when one has already been registered\n",
      "2025-02-10 16:43:20.181605: I tensorflow/core/platform/cpu_feature_guard.cc:210] This TensorFlow binary is optimized to use available CPU instructions in performance-critical operations.\n",
      "To enable the following instructions: AVX2 FMA, in other operations, rebuild TensorFlow with the appropriate compiler flags.\n"
     ]
    }
   ],
   "source": [
    "from raiwidgets import ResponsibleAIDashboard\n",
    "from responsibleai import RAIInsights"
   ]
  },
  {
   "cell_type": "code",
   "execution_count": 6,
   "metadata": {},
   "outputs": [],
   "source": [
    "from responsibleai.feature_metadata import FeatureMetadata\n",
    "# Set up feature metadata for RAIInsights\n",
    "feature_metadata = FeatureMetadata(categorical_features=categorical_features, dropped_features=[])\n",
    "\n",
    "# Add the target feature back to the datasets\n",
    "X_train_og_with_target = X_train_og.copy()\n",
    "X_train_og_with_target[target_feature] = y_train\n",
    "\n",
    "X_test_og_with_target = X_test_og.copy()\n",
    "X_test_og_with_target[target_feature] = y_test\n",
    "X_test_og_with_target = X_test_og_with_target.sample(n=1000, random_state=10)"
   ]
  },
  {
   "cell_type": "code",
   "execution_count": 7,
   "metadata": {},
   "outputs": [],
   "source": [
    "for feature in categorical_features:\n",
    "    print(f\"Unique values in {feature} for training data: {X_train_og[feature].unique()}\")\n",
    "    print(f\"Unique values in {feature} for test data: {X_test_og[feature].unique()}\")\n"
   ]
  },
  {
   "cell_type": "code",
   "execution_count": 8,
   "metadata": {},
   "outputs": [],
   "source": [
    "# Now, pass these modified DataFrames to RAIInsights\n",
    "rai_insights = RAIInsights(model, X_train_og_with_target, X_test_og_with_target, target_feature, 'classification', feature_metadata=feature_metadata)"
   ]
  },
  {
   "cell_type": "code",
   "execution_count": 9,
   "metadata": {},
   "outputs": [],
   "source": [
    "# Interpretability\n",
    "rai_insights.explainer.add()\n",
    "# Error Analysis\n",
    "rai_insights.error_analysis.add()\n",
    "# Counterfactuals: accepts total number of counterfactuals to generate, the label that they should have, and a list of \n",
    "                # strings of categorical feature names\n",
    "rai_insights.counterfactual.add(total_CFs=10, desired_class='opposite')\n"
   ]
  },
  {
   "cell_type": "code",
   "execution_count": 10,
   "metadata": {},
   "outputs": [
    {
     "name": "stdout",
     "output_type": "stream",
     "text": [
      "================================================================================\n",
      "Causal Effects\n",
      "Current Status: Generating Causal Effects.\n",
      "Current Status: Finished generating causal effects.\n",
      "Time taken: 0.0 min 0.00010424014180898666 sec\n",
      "================================================================================\n",
      "================================================================================\n",
      "Counterfactual\n",
      "Current Status: Generating 10 counterfactuals for 1000 samples\n"
     ]
    },
    {
     "name": "stderr",
     "output_type": "stream",
     "text": [
      "100%|██████████| 1000/1000 [43:16<00:00,  2.60s/it] \n"
     ]
    },
    {
     "name": "stdout",
     "output_type": "stream",
     "text": [
      "Current Status: Generated 10 counterfactuals for 1000 samples.\n",
      "Time taken: 43.0 min 28.69221324310638 sec\n",
      "================================================================================\n",
      "================================================================================\n",
      "Error Analysis\n",
      "Current Status: Generating error analysis reports.\n",
      "Current Status: Finished generating error analysis reports.\n",
      "Time taken: 0.0 min 0.12180716102011502 sec\n",
      "================================================================================\n",
      "================================================================================\n",
      "Explanations\n",
      "Current Status: Explaining 24 features\n",
      "Current Status: Explained 24 features.\n",
      "Time taken: 0.0 min 0.38898607320152223 sec\n",
      "================================================================================\n"
     ]
    }
   ],
   "source": [
    "# Compute: Perform all tasks (this remains CPU-bound)\n",
    "rai_insights.compute()"
   ]
  },
  {
   "cell_type": "code",
   "execution_count": 11,
   "metadata": {},
   "outputs": [
    {
     "name": "stdout",
     "output_type": "stream",
     "text": [
      "ResponsibleAI started at http://localhost:8705\n"
     ]
    },
    {
     "data": {
      "text/plain": [
       "<raiwidgets.responsibleai_dashboard.ResponsibleAIDashboard at 0x757e55193250>"
      ]
     },
     "execution_count": 11,
     "metadata": {},
     "output_type": "execute_result"
    },
    {
     "name": "stdout",
     "output_type": "stream",
     "text": [
      "name 'BACKTICK_QUOTED_STRING_Predicted_Y' is not defined\n"
     ]
    },
    {
     "name": "stderr",
     "output_type": "stream",
     "text": [
      "Traceback (most recent call last):\n",
      "  File \"/home/jui/.pyenv/versions/myenv/lib/python3.10/site-packages/pandas/core/computation/scope.py\", line 198, in resolve\n",
      "    return self.resolvers[key]\n",
      "  File \"/home/jui/.pyenv/versions/3.10.12/lib/python3.10/collections/__init__.py\", line 986, in __getitem__\n",
      "    return self.__missing__(key)            # support subclasses that define __missing__\n",
      "  File \"/home/jui/.pyenv/versions/3.10.12/lib/python3.10/collections/__init__.py\", line 978, in __missing__\n",
      "    raise KeyError(key)\n",
      "KeyError: 'BACKTICK_QUOTED_STRING_Predicted_Y'\n",
      "\n",
      "During handling of the above exception, another exception occurred:\n",
      "\n",
      "Traceback (most recent call last):\n",
      "  File \"/home/jui/.pyenv/versions/myenv/lib/python3.10/site-packages/pandas/core/computation/scope.py\", line 209, in resolve\n",
      "    return self.temps[key]\n",
      "KeyError: 'BACKTICK_QUOTED_STRING_Predicted_Y'\n",
      "\n",
      "The above exception was the direct cause of the following exception:\n",
      "\n",
      "Traceback (most recent call last):\n",
      "  File \"/home/jui/.pyenv/versions/myenv/lib/python3.10/site-packages/raiwidgets/responsibleai_dashboard_input.py\", line 191, in debug_ml\n",
      "    filtered_data_df = self._prepare_filtered_error_analysis_data(\n",
      "  File \"/home/jui/.pyenv/versions/myenv/lib/python3.10/site-packages/raiwidgets/responsibleai_dashboard_input.py\", line 156, in _prepare_filtered_error_analysis_data\n",
      "    filtered_data_df = self._analysis.get_filtered_test_data(\n",
      "  File \"/home/jui/.pyenv/versions/myenv/lib/python3.10/site-packages/responsibleai/rai_insights/rai_insights.py\", line 893, in get_filtered_test_data\n",
      "    return filter_data_with_cohort.filter_data_from_cohort(\n",
      "  File \"/home/jui/.pyenv/versions/myenv/lib/python3.10/site-packages/erroranalysis/_internal/cohort_filter.py\", line 128, in filter_data_from_cohort\n",
      "    df = self._apply_recursive_filter(\n",
      "  File \"/home/jui/.pyenv/versions/myenv/lib/python3.10/site-packages/erroranalysis/_internal/cohort_filter.py\", line 365, in _apply_recursive_filter\n",
      "    return df.query(self._build_query(\n",
      "  File \"/home/jui/.pyenv/versions/myenv/lib/python3.10/site-packages/pandas/util/_decorators.py\", line 331, in wrapper\n",
      "    return func(*args, **kwargs)\n",
      "  File \"/home/jui/.pyenv/versions/myenv/lib/python3.10/site-packages/pandas/core/frame.py\", line 4474, in query\n",
      "    res = self.eval(expr, **kwargs)\n",
      "  File \"/home/jui/.pyenv/versions/myenv/lib/python3.10/site-packages/pandas/util/_decorators.py\", line 331, in wrapper\n",
      "    return func(*args, **kwargs)\n",
      "  File \"/home/jui/.pyenv/versions/myenv/lib/python3.10/site-packages/pandas/core/frame.py\", line 4612, in eval\n",
      "    return _eval(expr, inplace=inplace, **kwargs)\n",
      "  File \"/home/jui/.pyenv/versions/myenv/lib/python3.10/site-packages/pandas/core/computation/eval.py\", line 353, in eval\n",
      "    parsed_expr = Expr(expr, engine=engine, parser=parser, env=env)\n",
      "  File \"/home/jui/.pyenv/versions/myenv/lib/python3.10/site-packages/pandas/core/computation/expr.py\", line 813, in __init__\n",
      "    self.terms = self.parse()\n",
      "  File \"/home/jui/.pyenv/versions/myenv/lib/python3.10/site-packages/pandas/core/computation/expr.py\", line 832, in parse\n",
      "    return self._visitor.visit(self.expr)\n",
      "  File \"/home/jui/.pyenv/versions/myenv/lib/python3.10/site-packages/pandas/core/computation/expr.py\", line 415, in visit\n",
      "    return visitor(node, **kwargs)\n",
      "  File \"/home/jui/.pyenv/versions/myenv/lib/python3.10/site-packages/pandas/core/computation/expr.py\", line 421, in visit_Module\n",
      "    return self.visit(expr, **kwargs)\n",
      "  File \"/home/jui/.pyenv/versions/myenv/lib/python3.10/site-packages/pandas/core/computation/expr.py\", line 415, in visit\n",
      "    return visitor(node, **kwargs)\n",
      "  File \"/home/jui/.pyenv/versions/myenv/lib/python3.10/site-packages/pandas/core/computation/expr.py\", line 424, in visit_Expr\n",
      "    return self.visit(node.value, **kwargs)\n",
      "  File \"/home/jui/.pyenv/versions/myenv/lib/python3.10/site-packages/pandas/core/computation/expr.py\", line 415, in visit\n",
      "    return visitor(node, **kwargs)\n",
      "  File \"/home/jui/.pyenv/versions/myenv/lib/python3.10/site-packages/pandas/core/computation/expr.py\", line 750, in visit_BoolOp\n",
      "    return reduce(visitor, operands)\n",
      "  File \"/home/jui/.pyenv/versions/myenv/lib/python3.10/site-packages/pandas/core/computation/expr.py\", line 744, in visitor\n",
      "    rhs = self._try_visit_binop(y)\n",
      "  File \"/home/jui/.pyenv/versions/myenv/lib/python3.10/site-packages/pandas/core/computation/expr.py\", line 739, in _try_visit_binop\n",
      "    return self.visit(bop)\n",
      "  File \"/home/jui/.pyenv/versions/myenv/lib/python3.10/site-packages/pandas/core/computation/expr.py\", line 415, in visit\n",
      "    return visitor(node, **kwargs)\n",
      "  File \"/home/jui/.pyenv/versions/myenv/lib/python3.10/site-packages/pandas/core/computation/expr.py\", line 750, in visit_BoolOp\n",
      "    return reduce(visitor, operands)\n",
      "  File \"/home/jui/.pyenv/versions/myenv/lib/python3.10/site-packages/pandas/core/computation/expr.py\", line 743, in visitor\n",
      "    lhs = self._try_visit_binop(x)\n",
      "  File \"/home/jui/.pyenv/versions/myenv/lib/python3.10/site-packages/pandas/core/computation/expr.py\", line 739, in _try_visit_binop\n",
      "    return self.visit(bop)\n",
      "  File \"/home/jui/.pyenv/versions/myenv/lib/python3.10/site-packages/pandas/core/computation/expr.py\", line 415, in visit\n",
      "    return visitor(node, **kwargs)\n",
      "  File \"/home/jui/.pyenv/versions/myenv/lib/python3.10/site-packages/pandas/core/computation/expr.py\", line 723, in visit_Compare\n",
      "    return self.visit(binop)\n",
      "  File \"/home/jui/.pyenv/versions/myenv/lib/python3.10/site-packages/pandas/core/computation/expr.py\", line 415, in visit\n",
      "    return visitor(node, **kwargs)\n",
      "  File \"/home/jui/.pyenv/versions/myenv/lib/python3.10/site-packages/pandas/core/computation/expr.py\", line 536, in visit_BinOp\n",
      "    op, op_class, left, right = self._maybe_transform_eq_ne(node)\n",
      "  File \"/home/jui/.pyenv/versions/myenv/lib/python3.10/site-packages/pandas/core/computation/expr.py\", line 456, in _maybe_transform_eq_ne\n",
      "    left = self.visit(node.left, side=\"left\")\n",
      "  File \"/home/jui/.pyenv/versions/myenv/lib/python3.10/site-packages/pandas/core/computation/expr.py\", line 415, in visit\n",
      "    return visitor(node, **kwargs)\n",
      "  File \"/home/jui/.pyenv/versions/myenv/lib/python3.10/site-packages/pandas/core/computation/expr.py\", line 549, in visit_Name\n",
      "    return self.term_type(node.id, self.env, **kwargs)\n",
      "  File \"/home/jui/.pyenv/versions/myenv/lib/python3.10/site-packages/pandas/core/computation/ops.py\", line 85, in __init__\n",
      "    self._value = self._resolve_name()\n",
      "  File \"/home/jui/.pyenv/versions/myenv/lib/python3.10/site-packages/pandas/core/computation/ops.py\", line 109, in _resolve_name\n",
      "    res = self.env.resolve(local_name, is_local=is_local)\n",
      "  File \"/home/jui/.pyenv/versions/myenv/lib/python3.10/site-packages/pandas/core/computation/scope.py\", line 211, in resolve\n",
      "    raise UndefinedVariableError(key, is_local) from err\n",
      "pandas.errors.UndefinedVariableError: name 'BACKTICK_QUOTED_STRING_Predicted_Y' is not defined\n"
     ]
    },
    {
     "name": "stdout",
     "output_type": "stream",
     "text": [
      "name 'BACKTICK_QUOTED_STRING_Predicted_Y' is not defined\n"
     ]
    },
    {
     "name": "stderr",
     "output_type": "stream",
     "text": [
      "Traceback (most recent call last):\n",
      "  File \"/home/jui/.pyenv/versions/myenv/lib/python3.10/site-packages/pandas/core/computation/scope.py\", line 198, in resolve\n",
      "    return self.resolvers[key]\n",
      "  File \"/home/jui/.pyenv/versions/3.10.12/lib/python3.10/collections/__init__.py\", line 986, in __getitem__\n",
      "    return self.__missing__(key)            # support subclasses that define __missing__\n",
      "  File \"/home/jui/.pyenv/versions/3.10.12/lib/python3.10/collections/__init__.py\", line 978, in __missing__\n",
      "    raise KeyError(key)\n",
      "KeyError: 'BACKTICK_QUOTED_STRING_Predicted_Y'\n",
      "\n",
      "During handling of the above exception, another exception occurred:\n",
      "\n",
      "Traceback (most recent call last):\n",
      "  File \"/home/jui/.pyenv/versions/myenv/lib/python3.10/site-packages/pandas/core/computation/scope.py\", line 209, in resolve\n",
      "    return self.temps[key]\n",
      "KeyError: 'BACKTICK_QUOTED_STRING_Predicted_Y'\n",
      "\n",
      "The above exception was the direct cause of the following exception:\n",
      "\n",
      "Traceback (most recent call last):\n",
      "  File \"/home/jui/.pyenv/versions/myenv/lib/python3.10/site-packages/raiwidgets/responsibleai_dashboard_input.py\", line 191, in debug_ml\n",
      "    filtered_data_df = self._prepare_filtered_error_analysis_data(\n",
      "  File \"/home/jui/.pyenv/versions/myenv/lib/python3.10/site-packages/raiwidgets/responsibleai_dashboard_input.py\", line 156, in _prepare_filtered_error_analysis_data\n",
      "    filtered_data_df = self._analysis.get_filtered_test_data(\n",
      "  File \"/home/jui/.pyenv/versions/myenv/lib/python3.10/site-packages/responsibleai/rai_insights/rai_insights.py\", line 893, in get_filtered_test_data\n",
      "    return filter_data_with_cohort.filter_data_from_cohort(\n",
      "  File \"/home/jui/.pyenv/versions/myenv/lib/python3.10/site-packages/erroranalysis/_internal/cohort_filter.py\", line 128, in filter_data_from_cohort\n",
      "    df = self._apply_recursive_filter(\n",
      "  File \"/home/jui/.pyenv/versions/myenv/lib/python3.10/site-packages/erroranalysis/_internal/cohort_filter.py\", line 365, in _apply_recursive_filter\n",
      "    return df.query(self._build_query(\n",
      "  File \"/home/jui/.pyenv/versions/myenv/lib/python3.10/site-packages/pandas/util/_decorators.py\", line 331, in wrapper\n",
      "    return func(*args, **kwargs)\n",
      "  File \"/home/jui/.pyenv/versions/myenv/lib/python3.10/site-packages/pandas/core/frame.py\", line 4474, in query\n",
      "    res = self.eval(expr, **kwargs)\n",
      "  File \"/home/jui/.pyenv/versions/myenv/lib/python3.10/site-packages/pandas/util/_decorators.py\", line 331, in wrapper\n",
      "    return func(*args, **kwargs)\n",
      "  File \"/home/jui/.pyenv/versions/myenv/lib/python3.10/site-packages/pandas/core/frame.py\", line 4612, in eval\n",
      "    return _eval(expr, inplace=inplace, **kwargs)\n",
      "  File \"/home/jui/.pyenv/versions/myenv/lib/python3.10/site-packages/pandas/core/computation/eval.py\", line 353, in eval\n",
      "    parsed_expr = Expr(expr, engine=engine, parser=parser, env=env)\n",
      "  File \"/home/jui/.pyenv/versions/myenv/lib/python3.10/site-packages/pandas/core/computation/expr.py\", line 813, in __init__\n",
      "    self.terms = self.parse()\n",
      "  File \"/home/jui/.pyenv/versions/myenv/lib/python3.10/site-packages/pandas/core/computation/expr.py\", line 832, in parse\n",
      "    return self._visitor.visit(self.expr)\n",
      "  File \"/home/jui/.pyenv/versions/myenv/lib/python3.10/site-packages/pandas/core/computation/expr.py\", line 415, in visit\n",
      "    return visitor(node, **kwargs)\n",
      "  File \"/home/jui/.pyenv/versions/myenv/lib/python3.10/site-packages/pandas/core/computation/expr.py\", line 421, in visit_Module\n",
      "    return self.visit(expr, **kwargs)\n",
      "  File \"/home/jui/.pyenv/versions/myenv/lib/python3.10/site-packages/pandas/core/computation/expr.py\", line 415, in visit\n",
      "    return visitor(node, **kwargs)\n",
      "  File \"/home/jui/.pyenv/versions/myenv/lib/python3.10/site-packages/pandas/core/computation/expr.py\", line 424, in visit_Expr\n",
      "    return self.visit(node.value, **kwargs)\n",
      "  File \"/home/jui/.pyenv/versions/myenv/lib/python3.10/site-packages/pandas/core/computation/expr.py\", line 415, in visit\n",
      "    return visitor(node, **kwargs)\n",
      "  File \"/home/jui/.pyenv/versions/myenv/lib/python3.10/site-packages/pandas/core/computation/expr.py\", line 750, in visit_BoolOp\n",
      "    return reduce(visitor, operands)\n",
      "  File \"/home/jui/.pyenv/versions/myenv/lib/python3.10/site-packages/pandas/core/computation/expr.py\", line 744, in visitor\n",
      "    rhs = self._try_visit_binop(y)\n",
      "  File \"/home/jui/.pyenv/versions/myenv/lib/python3.10/site-packages/pandas/core/computation/expr.py\", line 739, in _try_visit_binop\n",
      "    return self.visit(bop)\n",
      "  File \"/home/jui/.pyenv/versions/myenv/lib/python3.10/site-packages/pandas/core/computation/expr.py\", line 415, in visit\n",
      "    return visitor(node, **kwargs)\n",
      "  File \"/home/jui/.pyenv/versions/myenv/lib/python3.10/site-packages/pandas/core/computation/expr.py\", line 750, in visit_BoolOp\n",
      "    return reduce(visitor, operands)\n",
      "  File \"/home/jui/.pyenv/versions/myenv/lib/python3.10/site-packages/pandas/core/computation/expr.py\", line 743, in visitor\n",
      "    lhs = self._try_visit_binop(x)\n",
      "  File \"/home/jui/.pyenv/versions/myenv/lib/python3.10/site-packages/pandas/core/computation/expr.py\", line 739, in _try_visit_binop\n",
      "    return self.visit(bop)\n",
      "  File \"/home/jui/.pyenv/versions/myenv/lib/python3.10/site-packages/pandas/core/computation/expr.py\", line 415, in visit\n",
      "    return visitor(node, **kwargs)\n",
      "  File \"/home/jui/.pyenv/versions/myenv/lib/python3.10/site-packages/pandas/core/computation/expr.py\", line 723, in visit_Compare\n",
      "    return self.visit(binop)\n",
      "  File \"/home/jui/.pyenv/versions/myenv/lib/python3.10/site-packages/pandas/core/computation/expr.py\", line 415, in visit\n",
      "    return visitor(node, **kwargs)\n",
      "  File \"/home/jui/.pyenv/versions/myenv/lib/python3.10/site-packages/pandas/core/computation/expr.py\", line 536, in visit_BinOp\n",
      "    op, op_class, left, right = self._maybe_transform_eq_ne(node)\n",
      "  File \"/home/jui/.pyenv/versions/myenv/lib/python3.10/site-packages/pandas/core/computation/expr.py\", line 456, in _maybe_transform_eq_ne\n",
      "    left = self.visit(node.left, side=\"left\")\n",
      "  File \"/home/jui/.pyenv/versions/myenv/lib/python3.10/site-packages/pandas/core/computation/expr.py\", line 415, in visit\n",
      "    return visitor(node, **kwargs)\n",
      "  File \"/home/jui/.pyenv/versions/myenv/lib/python3.10/site-packages/pandas/core/computation/expr.py\", line 549, in visit_Name\n",
      "    return self.term_type(node.id, self.env, **kwargs)\n",
      "  File \"/home/jui/.pyenv/versions/myenv/lib/python3.10/site-packages/pandas/core/computation/ops.py\", line 85, in __init__\n",
      "    self._value = self._resolve_name()\n",
      "  File \"/home/jui/.pyenv/versions/myenv/lib/python3.10/site-packages/pandas/core/computation/ops.py\", line 109, in _resolve_name\n",
      "    res = self.env.resolve(local_name, is_local=is_local)\n",
      "  File \"/home/jui/.pyenv/versions/myenv/lib/python3.10/site-packages/pandas/core/computation/scope.py\", line 211, in resolve\n",
      "    raise UndefinedVariableError(key, is_local) from err\n",
      "pandas.errors.UndefinedVariableError: name 'BACKTICK_QUOTED_STRING_Predicted_Y' is not defined\n"
     ]
    }
   ],
   "source": [
    "ResponsibleAIDashboard(rai_insights)"
   ]
  }
 ],
 "metadata": {
  "kernelspec": {
   "display_name": "Python3 (myenv)",
   "language": "python",
   "name": "myenv"
  },
  "language_info": {
   "codemirror_mode": {
    "name": "ipython",
    "version": 3
   },
   "file_extension": ".py",
   "mimetype": "text/x-python",
   "name": "python",
   "nbconvert_exporter": "python",
   "pygments_lexer": "ipython3",
   "version": "3.10.12"
  }
 },
 "nbformat": 4,
 "nbformat_minor": 2
}
