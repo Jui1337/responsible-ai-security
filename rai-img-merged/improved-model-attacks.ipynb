{
 "cells": [
  {
   "cell_type": "code",
   "execution_count": 14,
   "metadata": {},
   "outputs": [
    {
     "name": "stdout",
     "output_type": "stream",
     "text": [
      "2.18.0\n",
      "True\n",
      "(30000, 25)\n",
      "2    18112\n",
      "1    18112\n",
      "Name: SEX, dtype: int64\n",
      "PR-AUC: 0.5775005059302372\n",
      "Model Accuracy: 0.8419\n",
      "Classification Report:\n",
      "              precision    recall  f1-score   support\n",
      "\n",
      "           0       0.86      0.96      0.91      7305\n",
      "           1       0.66      0.37      0.47      1751\n",
      "\n",
      "    accuracy                           0.84      9056\n",
      "   macro avg       0.76      0.66      0.69      9056\n",
      "weighted avg       0.82      0.84      0.82      9056\n",
      "\n",
      "\n",
      "Final Training Log Loss: 0.3026\n",
      "Final Test Log Loss: 0.3941\n"
     ]
    }
   ],
   "source": [
    "%run /home/jui/thesis-code/Thesis-code/rai-img-merged/Improved-model.ipynb"
   ]
  },
  {
   "cell_type": "code",
   "execution_count": 15,
   "metadata": {},
   "outputs": [],
   "source": [
    "from art.estimators.classification import XGBoostClassifier\n",
    "from art.attacks.evasion import ZooAttack\n",
    "from art.estimators.classification import SklearnClassifier\n",
    "\n",
    "import warnings\n",
    "warnings.filterwarnings('ignore')\n",
    "\n",
    "# Select random 7500 samples using positional indexing\n",
    "subset_indices = np.random.choice(len(y_train), 7500, replace=False)\n",
    "X_train_subset = X_train.iloc[subset_indices]  # Use .iloc for positional indexing\n",
    "y_train_subset = y_train[subset_indices]  # Direct positional indexing for NumPy array\n",
    "\n",
    "\n",
    "def get_adversarial_examples(X_train_subset, pipeline, model):\n",
    "    \"\"\"\n",
    "    Generate adversarial examples using the ZooAttack method.\n",
    "\n",
    "    Args:\n",
    "        X_train_subset (np.ndarray): Subset of training data (raw features).\n",
    "        y_train_subset (np.ndarray): Corresponding labels for the subset.\n",
    "        pipeline (Pipeline): The original pipeline containing preprocessing and model.\n",
    "\n",
    "    Returns:\n",
    "        np.ndarray: Adversarial examples.\n",
    "    \"\"\"\n",
    "    # Extract the preprocessor and model from the pipeline\n",
    "    preprocessor = pipeline.named_steps['preprocessor']\n",
    "\n",
    "    # Preprocess the subset of training data using the pipeline's preprocessor\n",
    "    X_train_subset_preprocessed = preprocessor.transform(X_train_subset)\n",
    "\n",
    "    # Create ART classifier for XGBoost\n",
    "    art_classifier = XGBoostClassifier(\n",
    "        model=model,\n",
    "        nb_features=X_train_subset_preprocessed.shape[1],\n",
    "        nb_classes=2)\n",
    "\n",
    "    # Create the ZooAttack instance\n",
    "    zoo = ZooAttack(\n",
    "        classifier=art_classifier,\n",
    "        confidence=0.0,\n",
    "        targeted=False,\n",
    "        learning_rate=1e-1,\n",
    "        max_iter=50,\n",
    "        binary_search_steps=10,\n",
    "        initial_const=1e-3,\n",
    "        abort_early=True,\n",
    "        use_resize=False,\n",
    "        use_importance=False,\n",
    "        nb_parallel=5,\n",
    "        batch_size=1,\n",
    "        variable_h=0.01\n",
    "    )\n",
    "\n",
    "    # Generate adversarial examples\n",
    "    x_train_adv = zoo.generate(X_train_subset_preprocessed)\n",
    "\n",
    "    return x_train_adv"
   ]
  },
  {
   "cell_type": "code",
   "execution_count": 16,
   "metadata": {},
   "outputs": [
    {
     "name": "stderr",
     "output_type": "stream",
     "text": [
      "ZOO: 100%|██████████| 7500/7500 [12:30<00:00,  9.99it/s]\n"
     ]
    }
   ],
   "source": [
    "x_train_adv = get_adversarial_examples(X_train_subset, pipeline, model)"
   ]
  },
  {
   "cell_type": "code",
   "execution_count": 17,
   "metadata": {},
   "outputs": [
    {
     "name": "stdout",
     "output_type": "stream",
     "text": [
      "Accuracy on Test Set: 83.40%\n"
     ]
    },
    {
     "data": {
      "image/png": "[encoded data removed]",
      "text/plain": [
       "<Figure size 600x500 with 2 Axes>"
      ]
     },
     "metadata": {},
     "output_type": "display_data"
    }
   ],
   "source": [
    "import xgboost as xgb\n",
    "import matplotlib.pyplot as plt\n",
    "import seaborn as sns\n",
    "from sklearn.metrics import accuracy_score, confusion_matrix, classification_report\n",
    "\n",
    "\n",
    "# Convert all datasets to NumPy arrays before training\n",
    "xgb_model.fit(x_train_adv, y_train_subset,  verbose=False)\n",
    "\n",
    "# Predictions on the test set (not the original or adversarial training data)\n",
    "y_pred_test = xgb_model.predict(X_test)\n",
    "\n",
    "# Compute accuracy on the test set\n",
    "accuracy_test = accuracy_score(y_test, y_pred_test)\n",
    "print(f\"Accuracy on Test Set: {accuracy_test * 100:.2f}%\")\n",
    "\n",
    "# Confusion Matrix for test data\n",
    "cm_test = confusion_matrix(y_test, y_pred_test)\n",
    "\n",
    "# Plot Confusion Matrix for the test set\n",
    "plt.figure(figsize=(6, 5))\n",
    "sns.heatmap(cm_test, annot=True, fmt='d', cmap='Blues')\n",
    "plt.title(\"Confusion Matrix - Test Set\")\n",
    "plt.show()\n"
   ]
  },
  {
   "cell_type": "code",
   "execution_count": 18,
   "metadata": {},
   "outputs": [],
   "source": [
    "def label_flip_attack(y_train: np.ndarray, flip_percent: float) -> np.ndarray:\n",
    "    \"\"\"\n",
    "    Flip labels in y_train by a specified percentage.\n",
    "    \n",
    "    Args:\n",
    "        y_train (np.ndarray): Original training labels.\n",
    "        flip_percent (float): Percentage of labels to flip (0-100).\n",
    "\n",
    "    Returns:\n",
    "        np.ndarray: Poisoned labels with flipped values.\n",
    "    \"\"\"\n",
    "    y_poisoned = y_train.copy()\n",
    "    n_samples = len(y_train)\n",
    "    n_flip = int((flip_percent / 100) * n_samples)  # Number of labels to flip\n",
    "    \n",
    "    flip_indices = np.random.choice(np.arange(n_samples), size=n_flip, replace=False)\n",
    "\n",
    "    # Flip binary labels (assuming labels are 0 and 1)\n",
    "    y_poisoned[flip_indices] = 1 - y_poisoned[flip_indices]  # Flip 0->1 and 1->0\n",
    "    \n",
    "    return y_poisoned\n",
    "\n"
   ]
  },
  {
   "cell_type": "code",
   "execution_count": 19,
   "metadata": {},
   "outputs": [
    {
     "name": "stdout",
     "output_type": "stream",
     "text": [
      "Accuracy on Test Set: 78.10%\n"
     ]
    },
    {
     "data": {
      "image/png": "[encoded data removed]",
      "text/plain": [
       "<Figure size 600x500 with 2 Axes>"
      ]
     },
     "metadata": {},
     "output_type": "display_data"
    }
   ],
   "source": [
    "# Define the percentage of labels to flip\n",
    "flip_percent = 35  # Flip 20% of labels\n",
    "\n",
    "# Apply label flipping attack\n",
    "y_train_poisoned = label_flip_attack(y_train, flip_percent)\n",
    "\n",
    "# Step 2: Train model on poisoned labels\n",
    "xgb_model.fit(X_train, y_train_poisoned, verbose=False)\n",
    "\n",
    "# Step 3: Evaluate model on test set\n",
    "y_pred_test = xgb_model.predict(X_test)\n",
    "accuracy_test = accuracy_score(y_test, y_pred_test)\n",
    "print(f\"Accuracy on Test Set: {accuracy_test * 100:.2f}%\")\n",
    "\n",
    "# Step 4: Confusion Matrix\n",
    "cm_test = confusion_matrix(y_test, y_pred_test)\n",
    "plt.figure(figsize=(6, 5))\n",
    "sns.heatmap(cm_test, annot=True, fmt='d', cmap='Blues')\n",
    "plt.title(\"Confusion Matrix - Test Set\")\n",
    "plt.show()"
   ]
  },
  {
   "cell_type": "code",
   "execution_count": null,
   "metadata": {},
   "outputs": [],
   "source": []
  }
 ],
 "metadata": {
  "kernelspec": {
   "display_name": "myenv",
   "language": "python",
   "name": "python3"
  },
  "language_info": {
   "codemirror_mode": {
    "name": "ipython",
    "version": 3
   },
   "file_extension": ".py",
   "mimetype": "text/x-python",
   "name": "python",
   "nbconvert_exporter": "python",
   "pygments_lexer": "ipython3",
   "version": "3.10.12"
  }
 },
 "nbformat": 4,
 "nbformat_minor": 2
}
