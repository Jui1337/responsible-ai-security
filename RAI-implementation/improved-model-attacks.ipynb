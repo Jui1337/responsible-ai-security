{
 "cells": [
  {
   "cell_type": "code",
   "execution_count": null,
   "metadata": {},
   "outputs": [
    {
     "name": "stdout",
     "output_type": "stream",
     "text": [
      "2.18.0\n",
      "True\n",
      "0    23364\n",
      "1     6636\n",
      "Name: default payment next month, dtype: int64\n",
      "(30000, 25)\n",
      "2    18112\n",
      "1    18112\n",
      "Name: SEX, dtype: int64\n",
      "PR-AUC: 0.5775005059302372\n",
      "Model Accuracy: 0.8419\n",
      "Classification Report:\n",
      "              precision    recall  f1-score   support\n",
      "\n",
      "           0       0.86      0.96      0.91      7305\n",
      "           1       0.66      0.37      0.47      1751\n",
      "\n",
      "    accuracy                           0.84      9056\n",
      "   macro avg       0.76      0.66      0.69      9056\n",
      "weighted avg       0.82      0.84      0.82      9056\n",
      "\n",
      "\n",
      "Final Training Log Loss: 0.3026\n",
      "Final Test Log Loss: 0.3941\n"
     ]
    }
   ],
   "source": [
    "#ZOO and label flip attacks on the RAI enhanced model\n",
    "\n",
    "%run /home/jui/thesis-code/Thesis-code/RAI-implementation/Improved-model.ipynb"
   ]
  },
  {
   "cell_type": "code",
   "execution_count": 2,
   "metadata": {},
   "outputs": [
    {
     "name": "stderr",
     "output_type": "stream",
     "text": [
      "/home/jui/.pyenv/versions/3.10.12/envs/myenv/lib/python3.10/site-packages/tqdm/auto.py:21: TqdmWarning: IProgress not found. Please update jupyter and ipywidgets. See https://ipywidgets.readthedocs.io/en/stable/user_install.html\n",
      "  from .autonotebook import tqdm as notebook_tqdm\n"
     ]
    }
   ],
   "source": [
    "from art.estimators.classification import XGBoostClassifier\n",
    "from art.attacks.evasion import ZooAttack\n",
    "from art.estimators.classification import SklearnClassifier\n",
    "\n",
    "import warnings\n",
    "warnings.filterwarnings('ignore')\n",
    "\n",
    "# Select random 7500 samples using positional indexing\n",
    "subset_indices = np.random.choice(len(y_train), 7500, replace=False)\n",
    "X_train_subset = X_train.iloc[subset_indices]  # Use .iloc for positional indexing\n",
    "y_train_subset = y_train[subset_indices]  # Direct positional indexing for NumPy array\n",
    "\n",
    "\n",
    "def get_adversarial_examples(X_train_subset, pipeline, model):\n",
    "    \"\"\"\n",
    "    Generate adversarial examples using the ZooAttack method.\n",
    "\n",
    "    Args:\n",
    "        X_train_subset (np.ndarray): Subset of training data (raw features).\n",
    "        y_train_subset (np.ndarray): Corresponding labels for the subset.\n",
    "        pipeline (Pipeline): The original pipeline containing preprocessing and model.\n",
    "\n",
    "    Returns:\n",
    "        np.ndarray: Adversarial examples.\n",
    "    \"\"\"\n",
    "    # Extract the preprocessor and model from the pipeline\n",
    "    preprocessor = pipeline.named_steps['preprocessor']\n",
    "\n",
    "    # Preprocess the subset of training data using the pipeline's preprocessor\n",
    "    X_train_subset_preprocessed = preprocessor.transform(X_train_subset)\n",
    "\n",
    "    # Create ART classifier for XGBoost\n",
    "    art_classifier = XGBoostClassifier(\n",
    "        model=model,\n",
    "        nb_features=X_train_subset_preprocessed.shape[1],\n",
    "        nb_classes=2)\n",
    "\n",
    "    # Create the ZooAttack instance\n",
    "    zoo = ZooAttack(\n",
    "        classifier=art_classifier,\n",
    "        confidence=0.0,\n",
    "        targeted=False,\n",
    "        learning_rate=1e-1,\n",
    "        max_iter=50,\n",
    "        binary_search_steps=10,\n",
    "        initial_const=1e-3,\n",
    "        abort_early=True,\n",
    "        use_resize=False,\n",
    "        use_importance=False,\n",
    "        nb_parallel=5,\n",
    "        batch_size=1,\n",
    "        variable_h=0.01\n",
    "    )\n",
    "\n",
    "    # Generate adversarial examples\n",
    "    x_train_adv = zoo.generate(X_train_subset_preprocessed)\n",
    "\n",
    "    return x_train_adv"
   ]
  },
  {
   "cell_type": "code",
   "execution_count": 3,
   "metadata": {},
   "outputs": [
    {
     "name": "stderr",
     "output_type": "stream",
     "text": [
      "ZOO: 100%|██████████| 7500/7500 [12:33<00:00,  9.95it/s]\n"
     ]
    }
   ],
   "source": [
    "x_train_adv = get_adversarial_examples(X_train_subset, pipeline, model_improved)"
   ]
  },
  {
   "cell_type": "code",
   "execution_count": 4,
   "metadata": {},
   "outputs": [
    {
     "name": "stdout",
     "output_type": "stream",
     "text": [
      "Accuracy on Test Set: 81.42%\n"
     ]
    },
    {
     "data": {
      "image/png": "[encoded data removed]",
      "text/plain": [
       "<Figure size 600x500 with 2 Axes>"
      ]
     },
     "metadata": {},
     "output_type": "display_data"
    }
   ],
   "source": [
    "import xgboost as xgb\n",
    "import matplotlib.pyplot as plt\n",
    "import seaborn as sns\n",
    "from sklearn.metrics import accuracy_score, confusion_matrix, classification_report\n",
    "\n",
    "\n",
    "# Convert all datasets to NumPy arrays before training\n",
    "xgb_model.fit(x_train_adv, y_train_subset,  verbose=False)\n",
    "\n",
    "# Predictions on the test set (not the original or adversarial training data)\n",
    "y_pred_test = xgb_model.predict(X_test)\n",
    "\n",
    "# Compute accuracy on the test set\n",
    "accuracy_test = accuracy_score(y_test, y_pred_test)\n",
    "print(f\"Accuracy on Test Set: {accuracy_test * 100:.2f}%\")\n",
    "\n",
    "# Confusion Matrix for test data\n",
    "cm_test = confusion_matrix(y_test, y_pred_test)\n",
    "\n",
    "# Plot Confusion Matrix for the test set\n",
    "plt.figure(figsize=(6, 5))\n",
    "sns.heatmap(cm_test, annot=True, fmt='d', cmap='Blues')\n",
    "plt.title(\"Confusion Matrix - Test Set\")\n",
    "plt.show()\n"
   ]
  },
  {
   "cell_type": "code",
   "execution_count": 6,
   "metadata": {},
   "outputs": [],
   "source": [
    "def label_flip_attack(y_train: np.ndarray, flip_percent: float) -> np.ndarray:\n",
    "    \"\"\"\n",
    "    Flip labels in y_train by a specified percentage.\n",
    "    \n",
    "    Args:\n",
    "        y_train (np.ndarray): Original training labels.\n",
    "        flip_percent (float): Percentage of labels to flip (0-100).\n",
    "\n",
    "    Returns:\n",
    "        np.ndarray: Poisoned labels with flipped values.\n",
    "    \"\"\"\n",
    "    y_poisoned = y_train.copy()\n",
    "    n_samples = len(y_train)\n",
    "    n_flip = int((flip_percent / 100) * n_samples)  # Number of labels to flip\n",
    "    \n",
    "    flip_indices = np.random.choice(np.arange(n_samples), size=n_flip, replace=False)\n",
    "\n",
    "    # Flip binary labels (assuming labels are 0 and 1)\n",
    "    y_poisoned[flip_indices] = 1 - y_poisoned[flip_indices]  # Flip 0->1 and 1->0\n",
    "    \n",
    "    return y_poisoned\n",
    "\n"
   ]
  },
  {
   "cell_type": "code",
   "execution_count": 7,
   "metadata": {},
   "outputs": [
    {
     "name": "stdout",
     "output_type": "stream",
     "text": [
      "Accuracy on Test Set: 78.42%\n"
     ]
    },
    {
     "data": {
      "image/png": "[encoded data removed]",
      "text/plain": [
       "<Figure size 600x500 with 2 Axes>"
      ]
     },
     "metadata": {},
     "output_type": "display_data"
    }
   ],
   "source": [
    "# Define the percentage of labels to flip\n",
    "flip_percent = 35  # Flip 20% of labels\n",
    "\n",
    "# Apply label flipping attack\n",
    "y_train_poisoned = label_flip_attack(y_train, flip_percent)\n",
    "\n",
    "# Step 2: Train model on poisoned labels\n",
    "xgb_model.fit(X_train, y_train_poisoned, verbose=False)\n",
    "\n",
    "# Step 3: Evaluate model on test set\n",
    "y_pred_test = xgb_model.predict(X_test)\n",
    "accuracy_test = accuracy_score(y_test, y_pred_test)\n",
    "print(f\"Accuracy on Test Set: {accuracy_test * 100:.2f}%\")\n",
    "\n",
    "# Step 4: Confusion Matrix\n",
    "cm_test = confusion_matrix(y_test, y_pred_test)\n",
    "plt.figure(figsize=(6, 5))\n",
    "sns.heatmap(cm_test, annot=True, fmt='d', cmap='Blues')\n",
    "plt.title(\"Confusion Matrix - Test Set\")\n",
    "plt.show()"
   ]
  },
  {
   "cell_type": "code",
   "execution_count": 10,
   "metadata": {},
   "outputs": [
    {
     "name": "stdout",
     "output_type": "stream",
     "text": [
      "Index(['EDUCATION', 'MARRIAGE', 'AGE', 'PAY_0', 'PAY_2', 'PAY_3', 'PAY_4',\n",
      "       'PAY_5', 'PAY_6', 'BILL_AMT1', 'BILL_AMT2', 'BILL_AMT3', 'BILL_AMT4',\n",
      "       'BILL_AMT5', 'BILL_AMT6', 'PAY_AMT1', 'PAY_AMT2', 'PAY_AMT3',\n",
      "       'PAY_AMT4', 'PAY_AMT5', 'PAY_AMT6', 'SEX',\n",
      "       'default payment next month'],\n",
      "      dtype='object')\n",
      "================================================================================\n",
      "Causal Effects\n",
      "Current Status: Generating Causal Effects.\n",
      "Current Status: Finished generating causal effects.\n",
      "Time taken: 0.0 min 2.323195803910494e-05 sec\n",
      "================================================================================\n",
      "================================================================================\n",
      "Counterfactual\n",
      "Time taken: 0.0 min 8.678063750267029e-06 sec\n",
      "================================================================================\n",
      "================================================================================\n",
      "Error Analysis\n",
      "Current Status: Generating error analysis reports.\n",
      "Current Status: Finished generating error analysis reports.\n",
      "Time taken: 0.0 min 0.3353485260158777 sec\n",
      "================================================================================\n",
      "================================================================================\n",
      "Explanations\n",
      "Current Status: Explaining 22 features\n",
      "Current Status: Explained 22 features.\n",
      "Time taken: 0.0 min 0.8556139770662412 sec\n",
      "================================================================================\n",
      "ResponsibleAI started at http://localhost:8705\n"
     ]
    },
    {
     "data": {
      "text/plain": [
       "<raiwidgets.responsibleai_dashboard.ResponsibleAIDashboard at 0x7f07d17bc370>"
      ]
     },
     "execution_count": 10,
     "metadata": {},
     "output_type": "execute_result"
    }
   ],
   "source": [
    "from raiwidgets import ResponsibleAIDashboard\n",
    "from responsibleai import RAIInsights\n",
    "from responsibleai.feature_metadata import FeatureMetadata\n",
    "import seaborn as sns\n",
    "import matplotlib.pyplot as plt\n",
    "\n",
    "categorical_features =[]\n",
    "\n",
    "# Set up feature metadata for RAIInsights\n",
    "feature_metadata = FeatureMetadata(categorical_features=categorical_features, dropped_features=[])\n",
    "\n",
    "# Add the target feature back to the datasets\n",
    "X_train_og_with_target = pd.DataFrame(x_train_adv, columns=feature_names)\n",
    "X_train_og_with_target[target_feature] = y_train_subset.ravel()\n",
    "\n",
    "X_test_og_with_target = X_test.copy()\n",
    "X_test_og_with_target[target_feature] = y_test\n",
    "\n",
    "sample_df = X_test_og_with_target.sample(n=5000, random_state=10)\n",
    "\n",
    "# Remove the 'num_pipe__' prefix from train columns\n",
    "X_train_og_with_target.columns = X_train_og_with_target.columns.str.replace('num_pipe__', '')\n",
    "\n",
    "# Verify after renaming\n",
    "print(X_train_og_with_target.columns)\n",
    "\n",
    "'''\n",
    "# Specify the stratification variable\n",
    "stratify_by = 'AGE'\n",
    "\n",
    "# Split the data into training and testing sets, with stratification\n",
    "train, test = train_test_split(X_train_og_with_target, test_size=0.3, stratify=X_train_og_with_target[stratify_by])\n",
    "sample_df, _ = train_test_split(\n",
    "    train, \n",
    "    train_size=5000/len(train),  # Ensure we get exactly 5000 samples\n",
    "    stratify=train[stratify_by],  # Maintain distribution\n",
    "    random_state=42\n",
    ")\n",
    "\n",
    "# Check the distribution of the stratification variable in the training and testing sets\n",
    "print(\"Train dataset:\\n\", sample_df[stratify_by].value_counts())'''\n",
    "\n",
    "# Now, pass these modified DataFrames to RAIInsights\n",
    "rai_insights = RAIInsights(model_improved, X_train_og_with_target, sample_df, target_feature, 'classification', feature_metadata=feature_metadata)\n",
    "from raiwidgets import ErrorAnalysisDashboard\n",
    "y_test = y_test.flatten()\n",
    "# Interpretability\n",
    "rai_insights.explainer.add()\n",
    "# Error Analysis\n",
    "rai_insights.error_analysis.add()\n",
    "# Counterfactuals: accepts total number of counterfactuals to generate, the label that they should have, and a list of \n",
    "                # strings of categorical feature names\n",
    "#rai_insights.counterfactual.add(total_CFs=10, desired_class='opposite')\n",
    "# Compute: Perform all tasks (this remains CPU-bound)\n",
    "rai_insights.compute()\n",
    "ResponsibleAIDashboard(rai_insights)"
   ]
  }
 ],
 "metadata": {
  "kernelspec": {
   "display_name": "myenv",
   "language": "python",
   "name": "python3"
  },
  "language_info": {
   "codemirror_mode": {
    "name": "ipython",
    "version": 3
   },
   "file_extension": ".py",
   "mimetype": "text/x-python",
   "name": "python",
   "nbconvert_exporter": "python",
   "pygments_lexer": "ipython3",
   "version": "3.10.12"
  }
 },
 "nbformat": 4,
 "nbformat_minor": 2
}
